{
 "cells": [
  {
   "cell_type": "markdown",
   "metadata": {},
   "source": [
    "#### Using Hardy Cross Algorithm by Providing the Loops Manually\n",
    "In this example, we are using algorithm that utilizes Hardy Cross method to analyze the flow in networks of conduits. On top of this, we are going to add breadth-first search so that we can determine the loops automatically in any given network. First, let's import our scripts, create an example network and provide the loops manually. A representation of the example network is provided below. "
   ]
  },
  {
   "cell_type": "markdown",
   "metadata": {},
   "source": [
    "<img src=\"Example_network.png\" style=\"width: 400px;\"/>"
   ]
  },
  {
   "cell_type": "code",
   "execution_count": 1,
   "metadata": {},
   "outputs": [
    {
     "name": "stdout",
     "output_type": "stream",
     "text": [
      "---------- Iteration 8 ----------\n",
      "\n",
      "ΔQ1 = -6.093326750558746e-13\n",
      "ΔQ2 = -3.7286985423727e-14\n",
      "Nodes:\n",
      "Node 4 => Nodal Flow: -30, Net Flow: 7.105427357601002e-15\n",
      "Node 2 => Nodal Flow: -20, Net Flow: -7.105427357601002e-15\n",
      "Node 3 => Nodal Flow: -50, Net Flow: 0.0\n",
      "Node 1 => Nodal Flow: 100, Net Flow: 0.0\n",
      "\n",
      "Edges:\n",
      "From node 4 to node 3 => Flow: 20.75915935586988, Resistance: 2\n",
      "From node 2 to node 4 => Flow: -1.5120221282979684, Resistance: 3\n",
      "From node 2 to node 3 => Flow: 29.24084064413012, Resistance: 1\n",
      "From node 1 to node 4 => Flow: 52.271181484167855, Resistance: 5\n",
      "From node 1 to node 2 => Flow: 47.728818515832145, Resistance: 6\n"
     ]
    }
   ],
   "source": [
    "#Calling Hardy Cross and Breadth First Search algorithms\n",
    "include(\"HardyCrossAlgorithm.jl\")\n",
    "include(\"BreadthFirstSearch.jl\")\n",
    "\n",
    "#Creating a toy network\n",
    "net = create_network(collect(1:4))\n",
    "\n",
    "set_flow!(net, 1, 100)\n",
    "set_flow!(net, 2, -20)\n",
    "set_flow!(net, 3, -50)\n",
    "set_flow!(net, 4, -30)\n",
    "\n",
    "add_pipe!(net, 1, 2, Pipe(70, 6, 2))\n",
    "add_pipe!(net, 1, 4, Pipe(30, 5, 2))\n",
    "add_pipe!(net, 2, 3, Pipe(15, 1, 2))\n",
    "add_pipe!(net, 2, 4, Pipe(35, 3, 2))\n",
    "add_pipe!(net, 4, 3, Pipe(35, 2, 2))\n",
    "\n",
    "#Defining the loops in the network\n",
    "loops = [[(1, 2), (2, 4), (4, 1)], [(2, 3), (3, 4), (4, 2)]]\n",
    "\n",
    "#Solving the network with Hardy Cross algorithm\n",
    "solve_HardyCross(net, loops)"
   ]
  },
  {
   "cell_type": "markdown",
   "metadata": {},
   "source": [
    "As we can see above, our algorithm works perfectly and can recreate the solution procedure of an example network from Figure 10.13, page 429, Streeter and Wylie, Fluid Mechanics, Seventh Edition, McGraw-Hill, 1979. The book solution of the network is shown below. "
   ]
  },
  {
   "cell_type": "markdown",
   "metadata": {},
   "source": [
    "<img src=\"Example_network_solution.png\" style=\"width: 400px;\"/>"
   ]
  },
  {
   "cell_type": "markdown",
   "metadata": {},
   "source": [
    "#### Finding Loops Automatically in Any Network using Breadth First Search Algorithm\n",
    "On top of this, let's use breadth first search algorithm to determine the loops in any given network. After that, we can run Hardy Cross algorithm and check the results for every source vertex (every node as starting point for breadth-first search algorithm). "
   ]
  },
  {
   "cell_type": "code",
   "execution_count": 2,
   "metadata": {},
   "outputs": [
    {
     "name": "stdout",
     "output_type": "stream",
     "text": [
      "---------- Iteration 7 ----------\n",
      "\n",
      "ΔQ1 = 4.11502993023212e-11\n",
      "ΔQ2 = -3.3430954874687076e-13\n",
      "Nodes:\n",
      "Node 4 => Nodal Flow: -30, Net Flow: 0.0\n",
      "Node 2 => Nodal Flow: -20, Net Flow: 0.0\n",
      "Node 3 => Nodal Flow: -50, Net Flow: 0.0\n",
      "Node 1 => Nodal Flow: 100, Net Flow: 0.0\n",
      "\n",
      "Edges:\n",
      "From node 4 to node 3 => Flow: 20.7591593558699, Resistance: 2\n",
      "From node 2 to node 4 => Flow: -1.5120221282979525, Resistance: 3\n",
      "From node 2 to node 3 => Flow: 29.2408406441301, Resistance: 1\n",
      "From node 1 to node 4 => Flow: 52.271181484167855, Resistance: 5\n",
      "From node 1 to node 2 => Flow: 47.728818515832145, Resistance: 6\n"
     ]
    }
   ],
   "source": [
    "#Creating a toy network\n",
    "net = create_network(collect(1:4))\n",
    "\n",
    "set_flow!(net, 1, 100)\n",
    "set_flow!(net, 2, -20)\n",
    "set_flow!(net, 3, -50)\n",
    "set_flow!(net, 4, -30)\n",
    "\n",
    "add_pipe!(net, 1, 2, Pipe(70, 6, 2))\n",
    "add_pipe!(net, 1, 4, Pipe(30, 5, 2))\n",
    "add_pipe!(net, 2, 3, Pipe(15, 1, 2))\n",
    "add_pipe!(net, 2, 4, Pipe(35, 3, 2))\n",
    "add_pipe!(net, 4, 3, Pipe(35, 2, 2))\n",
    "\n",
    "#Solving the network by utilizing Hardy Cross and Breadth First Search (first node as source vertex)\n",
    "solve_HardyCross_auto(net, 1)"
   ]
  },
  {
   "cell_type": "code",
   "execution_count": 3,
   "metadata": {},
   "outputs": [
    {
     "name": "stdout",
     "output_type": "stream",
     "text": [
      "---------- Iteration 8 ----------\n",
      "\n",
      "ΔQ1 = 6.093326750558746e-13\n",
      "ΔQ2 = -3.69920867727959e-14\n",
      "Nodes:\n",
      "Node 4 => Nodal Flow: -30, Net Flow: 7.105427357601002e-15\n",
      "Node 2 => Nodal Flow: -20, Net Flow: -7.105427357601002e-15\n",
      "Node 3 => Nodal Flow: -50, Net Flow: 0.0\n",
      "Node 1 => Nodal Flow: 100, Net Flow: 0.0\n",
      "\n",
      "Edges:\n",
      "From node 4 to node 3 => Flow: 20.75915935586988, Resistance: 2\n",
      "From node 2 to node 4 => Flow: -1.5120221282979682, Resistance: 3\n",
      "From node 2 to node 3 => Flow: 29.24084064413012, Resistance: 1\n",
      "From node 1 to node 4 => Flow: 52.271181484167855, Resistance: 5\n",
      "From node 1 to node 2 => Flow: 47.728818515832145, Resistance: 6\n"
     ]
    }
   ],
   "source": [
    "#Creating a toy network\n",
    "net = create_network(collect(1:4))\n",
    "\n",
    "set_flow!(net, 1, 100)\n",
    "set_flow!(net, 2, -20)\n",
    "set_flow!(net, 3, -50)\n",
    "set_flow!(net, 4, -30)\n",
    "\n",
    "add_pipe!(net, 1, 2, Pipe(70, 6, 2))\n",
    "add_pipe!(net, 1, 4, Pipe(30, 5, 2))\n",
    "add_pipe!(net, 2, 3, Pipe(15, 1, 2))\n",
    "add_pipe!(net, 2, 4, Pipe(35, 3, 2))\n",
    "add_pipe!(net, 4, 3, Pipe(35, 2, 2))\n",
    "\n",
    "#Solving the network by utilizing Hardy Cross and Breadth First Search (second node as source vertex)\n",
    "solve_HardyCross_auto(net, 2)"
   ]
  },
  {
   "cell_type": "code",
   "execution_count": 4,
   "metadata": {},
   "outputs": [
    {
     "name": "stdout",
     "output_type": "stream",
     "text": [
      "---------- Iteration 16 ----------\n",
      "\n",
      "ΔQ1 = 3.0406740386720966e-11\n",
      "ΔQ2 = 3.4792341021721757e-12\n",
      "Nodes:\n",
      "Node 4 => Nodal Flow: -30, Net Flow: 3.552713678800501e-15\n",
      "Node 2 => Nodal Flow: -20, Net Flow: -3.552713678800501e-15\n",
      "Node 3 => Nodal Flow: -50, Net Flow: 0.0\n",
      "Node 1 => Nodal Flow: 100, Net Flow: 0.0\n",
      "\n",
      "Edges:\n",
      "From node 4 to node 3 => Flow: 20.759159355873123, Resistance: 2\n",
      "From node 2 to node 4 => Flow: -1.5120221282943096, Resistance: 3\n",
      "From node 2 to node 3 => Flow: 29.240840644126877, Resistance: 1\n",
      "From node 1 to node 4 => Flow: 52.271181484167435, Resistance: 5\n",
      "From node 1 to node 2 => Flow: 47.728818515832565, Resistance: 6\n"
     ]
    }
   ],
   "source": [
    "#Creating a toy network\n",
    "net = create_network(collect(1:4))\n",
    "\n",
    "set_flow!(net, 1, 100)\n",
    "set_flow!(net, 2, -20)\n",
    "set_flow!(net, 3, -50)\n",
    "set_flow!(net, 4, -30)\n",
    "\n",
    "add_pipe!(net, 1, 2, Pipe(70, 6, 2))\n",
    "add_pipe!(net, 1, 4, Pipe(30, 5, 2))\n",
    "add_pipe!(net, 2, 3, Pipe(15, 1, 2))\n",
    "add_pipe!(net, 2, 4, Pipe(35, 3, 2))\n",
    "add_pipe!(net, 4, 3, Pipe(35, 2, 2))\n",
    "\n",
    "#Solving the network by utilizing Hardy Cross and Breadth First Search (third node as source vertex)\n",
    "solve_HardyCross_auto(net, 3)"
   ]
  },
  {
   "cell_type": "code",
   "execution_count": 5,
   "metadata": {},
   "outputs": [
    {
     "name": "stdout",
     "output_type": "stream",
     "text": [
      "---------- Iteration 185 ----------\n",
      "\n",
      "ΔQ1 = 9.670713932450742e-11\n",
      "ΔQ2 = 8.564084745040249e-11\n",
      "Nodes:\n",
      "Node 4 => Nodal Flow: -30, Net Flow: -7.105427357601002e-14\n",
      "Node 2 => Nodal Flow: -20, Net Flow: 6.394884621840902e-14\n",
      "Node 3 => Nodal Flow: -50, Net Flow: 7.105427357601002e-15\n",
      "Node 1 => Nodal Flow: 100, Net Flow: 0.0\n",
      "\n",
      "Edges:\n",
      "From node 4 to node 3 => Flow: 20.759159356488066, Resistance: 2\n",
      "From node 2 to node 4 => Flow: -1.512022127599993, Resistance: 3\n",
      "From node 2 to node 3 => Flow: 29.24084064351194, Resistance: 1\n",
      "From node 1 to node 4 => Flow: 52.27118148408799, Resistance: 5\n",
      "From node 1 to node 2 => Flow: 47.72881851591201, Resistance: 6\n"
     ]
    }
   ],
   "source": [
    "#Creating a toy network\n",
    "net = create_network(collect(1:4))\n",
    "\n",
    "set_flow!(net, 1, 100)\n",
    "set_flow!(net, 2, -20)\n",
    "set_flow!(net, 3, -50)\n",
    "set_flow!(net, 4, -30)\n",
    "\n",
    "add_pipe!(net, 1, 2, Pipe(70, 6, 2))\n",
    "add_pipe!(net, 1, 4, Pipe(30, 5, 2))\n",
    "add_pipe!(net, 2, 3, Pipe(15, 1, 2))\n",
    "add_pipe!(net, 2, 4, Pipe(35, 3, 2))\n",
    "add_pipe!(net, 4, 3, Pipe(35, 2, 2))\n",
    "\n",
    "#Solving the network by utilizing Hardy Cross and Breadth First Search (fourth node as source vertex)\n",
    "solve_HardyCross_auto(net, 4)"
   ]
  },
  {
   "cell_type": "markdown",
   "metadata": {},
   "source": [
    "As we can see above, the algorithm converged to the same results in all of four cases (i.e., selecting different nodes as source vertex). The number of iterations to converge depends on the selected source vertex. Moreover, we can use create_network, set_flow!, add_pipe! functions to create custom networks and solve it with this algorithm."
   ]
  }
 ],
 "metadata": {
  "kernelspec": {
   "display_name": "Julia 1.9.3",
   "language": "julia",
   "name": "julia-1.9"
  },
  "language_info": {
   "file_extension": ".jl",
   "mimetype": "application/julia",
   "name": "julia",
   "version": "1.9.3"
  },
  "orig_nbformat": 4
 },
 "nbformat": 4,
 "nbformat_minor": 2
}
